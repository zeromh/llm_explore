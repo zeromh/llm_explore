{
 "cells": [
  {
   "cell_type": "code",
   "execution_count": null,
   "id": "72b5345a",
   "metadata": {},
   "outputs": [
    {
     "name": "stderr",
     "output_type": "stream",
     "text": [
      "\u001b[32m2025-05-10 16:42:21.682\u001b[0m | \u001b[1mINFO    \u001b[0m | \u001b[36mllm_explore.config\u001b[0m:\u001b[36m<module>\u001b[0m:\u001b[36m11\u001b[0m - \u001b[1mPROJ_ROOT path is: /Users/zeromh/ds/llm_explore\u001b[0m\n"
     ]
    }
   ],
   "source": [
    "# Setup and Imports\n",
    "from datasets import load_dataset\n",
    "from transformers import AutoTokenizer, AutoModelForSeq2SeqLM, TrainingArguments, Trainer\n",
    "from peft import LoraConfig, get_peft_model, TaskType\n",
    "import torch\n",
    "import datetime\n",
    "import copy\n",
    "\n",
    "# Import helper functions\n",
    "from llm_explore.utils import (get_torch_device, print_number_of_model_parameters,\n",
    "                                make_n_shot_summary_prompt, get_model_completion)"
   ]
  },
  {
   "cell_type": "code",
   "execution_count": 2,
   "id": "8959ac77",
   "metadata": {},
   "outputs": [],
   "source": [
    "# User sets dataset and model names\n",
    "DATASET_NAME = \"knkarthick/dialogsum\"\n",
    "MODEL_NAME = \"google/flan-t5-base\""
   ]
  },
  {
   "cell_type": "code",
   "execution_count": 3,
   "id": "4784d306",
   "metadata": {},
   "outputs": [
    {
     "name": "stdout",
     "output_type": "stream",
     "text": [
      "Returned MPS device\n"
     ]
    }
   ],
   "source": [
    "# Device Configuration\n",
    "device = get_torch_device()"
   ]
  },
  {
   "cell_type": "code",
   "execution_count": 7,
   "id": "9d08a3e1",
   "metadata": {},
   "outputs": [
    {
     "name": "stdout",
     "output_type": "stream",
     "text": [
      "Total parameters: 247577856\n",
      "Trainable parameters: 247577856\n",
      "Percentage of trainable parameters: 100.00%\n"
     ]
    }
   ],
   "source": [
    "\n",
    "# Dataset and Model Initialization\n",
    "dataset = load_dataset(DATASET_NAME)\n",
    "model = AutoModelForSeq2SeqLM.from_pretrained(MODEL_NAME, torch_dtype=torch.float16).to(device)\n",
    " # Keep a copy of the original model for later use (keep on CPU for now)\n",
    "model_orig = copy.deepcopy(model).to(torch.device(\"cpu\"))\n",
    "tokenizer = AutoTokenizer.from_pretrained(MODEL_NAME, use_fast=True)\n",
    "\n",
    "# Parameter Inspection\n",
    "all_params, trainable_params = print_number_of_model_parameters(model)\n"
   ]
  },
  {
   "cell_type": "code",
   "execution_count": null,
   "id": "93f23fa3",
   "metadata": {},
   "outputs": [],
   "source": [
    "\n",
    "# Tokenization and Dataset Preparation\n",
    "def tokenize_function(example):\n",
    "    \"\"\"Tokenizes the input and output text for the model, \n",
    "    including a hardcoded prompt to summarize the conversation.\"\"\"\n",
    "    \n",
    "    start_prompt = \"Summarize the following conversation.\\n\\n\"\n",
    "    end_prompt = \"\\n\\nSummary: \"\n",
    "    prompt = [start_prompt + dialogue + end_prompt for dialogue in example['dialogue']]\n",
    "    output = tokenizer(prompt, truncation=True, padding='max_length', return_tensors='pt')\n",
    "    output['labels'] = tokenizer(example['summary'], truncation=True, padding='max_length', return_tensors='pt').input_ids\n",
    "    return output\n",
    "\n",
    "tokenized_dataset = dataset.map(tokenize_function, batched=True, remove_columns=['id', 'topic', 'dialogue', 'summary'])\n",
    "#tokenized_dataset_small = tokenized_dataset.filter(lambda example, index: index % 10 == 0, with_indices=True)\n"
   ]
  },
  {
   "cell_type": "code",
   "execution_count": null,
   "id": "9b280499",
   "metadata": {},
   "outputs": [
    {
     "name": "stdout",
     "output_type": "stream",
     "text": [
      "Total parameters: 251116800\n",
      "Trainable parameters: 3538944\n",
      "Percentage of trainable parameters: 1.41%\n"
     ]
    },
    {
     "data": {
      "text/plain": [
       "(251116800, 3538944)"
      ]
     },
     "execution_count": 11,
     "metadata": {},
     "output_type": "execute_result"
    }
   ],
   "source": [
    "\n",
    "# LoRA Configuration and Model Setup\n",
    "lora_config = LoraConfig(\n",
    "    r=32,\n",
    "    lora_alpha=32,\n",
    "    target_modules=[\"q\", \"v\"],\n",
    "    lora_dropout=0.05,\n",
    "    bias=\"none\",\n",
    "    task_type=TaskType.SEQ_2_SEQ_LM\n",
    ")\n",
    "\n",
    "peft_model = get_peft_model(model, lora_config) # Modifies base model in place\n",
    "print_number_of_model_parameters(peft_model)\n"
   ]
  },
  {
   "cell_type": "code",
   "execution_count": 12,
   "id": "35f9ea6b",
   "metadata": {},
   "outputs": [],
   "source": [
    "\n",
    "# Training with LoRA\n",
    "timestamp = datetime.datetime.now().strftime(\"%Y-%m-%d_%H-%M-%S\")\n",
    "output_dir = f\"../models/peft-dialogue-summary-training-{timestamp}\"\n",
    "\n",
    "peft_training_args = TrainingArguments(\n",
    "    output_dir=output_dir,\n",
    "    auto_find_batch_size=True,\n",
    "    num_train_epochs=1,\n",
    "    learning_rate=1e-3,\n",
    "    logging_steps=20,\n",
    "    per_device_train_batch_size=2,\n",
    "    max_steps=-1,\n",
    "    label_names=[\"labels\"],\n",
    "    include_num_input_tokens_seen=True,\n",
    "    # fp16=True,  # for mixed-precision training, but doesn't work on apple silicon\n",
    ")\n",
    "\n",
    "peft_trainer = Trainer(\n",
    "    model=peft_model,\n",
    "    args=peft_training_args,\n",
    "    train_dataset=tokenized_dataset['train']\n",
    ")\n",
    "\n",
    "# Uncomment to train\n",
    "torch.mps.empty_cache()\n",
    "# peft_trainer.train()\n",
    "\n",
    "# CPU: Took 24 minutes to do 1 step which is 8 samples\n",
    "# GPU: Took < 1 minute to do 125 samples\n",
    "# GPU: Took 8:27 minutes to do 1250 samples\n"
   ]
  },
  {
   "cell_type": "code",
   "execution_count": null,
   "id": "f7a3749f",
   "metadata": {},
   "outputs": [],
   "source": [
    "# Model Saving\n",
    "# Don't need to run this, as Trainer automatically saves checkpoints and final model above\n",
    "\n",
    "# peft_model.save_pretrained(f\"../models/peft-dialogue-summary-training-{timestamp}_lora_results\")"
   ]
  },
  {
   "cell_type": "code",
   "execution_count": null,
   "id": "37017d42",
   "metadata": {},
   "outputs": [],
   "source": [
    "\n",
    "# Evaluation and Results\n",
    "my_id = 200\n",
    "prompt = make_n_shot_summary_prompt(summarize_id=my_id, data=dataset)\n",
    "completion = get_model_completion(prompt, tokenizer, peft_model)\n",
    "print(completion)\n",
    "\n"
   ]
  },
  {
   "cell_type": "code",
   "execution_count": null,
   "id": "d29131f6",
   "metadata": {},
   "outputs": [],
   "source": []
  }
 ],
 "metadata": {
  "kernelspec": {
   "display_name": "llm_explore",
   "language": "python",
   "name": "python3"
  },
  "language_info": {
   "codemirror_mode": {
    "name": "ipython",
    "version": 3
   },
   "file_extension": ".py",
   "mimetype": "text/x-python",
   "name": "python",
   "nbconvert_exporter": "python",
   "pygments_lexer": "ipython3",
   "version": "3.11.11"
  }
 },
 "nbformat": 4,
 "nbformat_minor": 5
}
