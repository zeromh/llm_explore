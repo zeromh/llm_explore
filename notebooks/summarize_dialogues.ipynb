{
 "cells": [
  {
   "cell_type": "code",
   "execution_count": 1,
   "id": "bc38b2fb-43ad-415e-92c7-baf865da1bc8",
   "metadata": {},
   "outputs": [],
   "source": [
    "from datasets import load_dataset\n",
    "from transformers import AutoTokenizer, AutoModelForSeq2SeqLM, GenerationConfig"
   ]
  },
  {
   "cell_type": "code",
   "execution_count": 2,
   "id": "194f5852-b014-4738-82d2-49aa40efdca2",
   "metadata": {},
   "outputs": [],
   "source": [
    "DATASET_NAME = \"knkarthick/dialogsum\"\n",
    "MODEL_NAME = \"google/flan-t5-base\""
   ]
  },
  {
   "cell_type": "code",
   "execution_count": 3,
   "id": "1f79dad4-0583-45aa-81c8-b6146853a919",
   "metadata": {},
   "outputs": [],
   "source": [
    "dataset = load_dataset(DATASET_NAME)\n",
    "model = AutoModelForSeq2SeqLM.from_pretrained(MODEL_NAME)\n",
    "tokenizer = AutoTokenizer.from_pretrained(MODEL_NAME, use_fast=True)"
   ]
  },
  {
   "cell_type": "code",
   "execution_count": null,
   "id": "59a3ecfa-d345-4e1c-8a1a-f819ba5a3c38",
   "metadata": {},
   "outputs": [
    {
     "data": {
      "text/plain": [
       "Dataset({\n",
       "    features: ['id', 'dialogue', 'summary', 'topic'],\n",
       "    num_rows: 12460\n",
       "})"
      ]
     },
     "execution_count": 14,
     "metadata": {},
     "output_type": "execute_result"
    }
   ],
   "source": [
    "dataset['train']"
   ]
  },
  {
   "cell_type": "code",
   "execution_count": 81,
   "id": "8b00e5d9-ec9f-4aca-a845-ded3154fd6bc",
   "metadata": {},
   "outputs": [
    {
     "name": "stdout",
     "output_type": "stream",
     "text": [
      "#Person1#: Have you considered upgrading your system?\n",
      "#Person2#: Yes, but I'm not sure what exactly I would need.\n",
      "#Person1#: You could consider adding a painting program to your software. It would allow you to make up your own flyers and banners for advertising.\n",
      "#Person2#: That would be a definite bonus.\n",
      "#Person1#: You might also want to upgrade your hardware because it is pretty outdated now.\n",
      "#Person2#: How can we do that?\n",
      "#Person1#: You'd probably need a faster processor, to begin with. And you also need a more powerful hard disc, more memory and a faster modem. Do you have a CD-ROM drive?\n",
      "#Person2#: No.\n",
      "#Person1#: Then you might want to add a CD-ROM drive too, because most new software programs are coming out on Cds.\n",
      "#Person2#: That sounds great. Thanks.\n"
     ]
    }
   ],
   "source": [
    "print(dataset['test']['dialogue'][200])"
   ]
  },
  {
   "cell_type": "code",
   "execution_count": 67,
   "id": "a3c28791-ed0c-455b-96df-8015575e31e4",
   "metadata": {},
   "outputs": [],
   "source": [
    "def make_n_shot_summary_prompt(example_ids=None, summarize_id=0, data=dataset, my_set='test'):\n",
    "    prompt = ''\n",
    "    if example_ids:\n",
    "        for i in example_ids:\n",
    "            dialogue = data[my_set]['dialogue'][i]\n",
    "            human_summary = data[my_set]['summary'][i]\n",
    "    \n",
    "            prompt += f\"\"\"\n",
    "DIALOGUE:\n",
    "\n",
    "{dialogue}\n",
    "\n",
    "SUMMARY:\n",
    "\n",
    "{human_summary}\n",
    "\"\"\"\n",
    "        \n",
    "    dialogue = data[my_set]['dialogue'][summarize_id]\n",
    "\n",
    "    prompt += f\"\"\"\n",
    "DIALOGUE:\n",
    "\n",
    "{dialogue}\n",
    "\n",
    "SUMMARY:\n",
    "\"\"\"\n",
    "    return prompt\n",
    "    \n",
    "\n",
    "def get_model_completion(prompt, tokenizer=tokenizer, model=model, gen_config=None):\n",
    "    sentence_encoded = tokenizer(prompt, return_tensors='pt')\n",
    "    completion = model.generate(sentence_encoded.input_ids,\n",
    "                               num_beams=1,\n",
    "                               do_sample=True,\n",
    "                               max_new_tokens=1000,\n",
    "                               generation_config=gen_config)[0]\n",
    "    return tokenizer.decode(completion, skip_special_tokens=True)\n",
    "    "
   ]
  },
  {
   "cell_type": "code",
   "execution_count": 68,
   "id": "72dfe64e-b3f8-44e0-b641-6d9e19863ff8",
   "metadata": {},
   "outputs": [
    {
     "name": "stdout",
     "output_type": "stream",
     "text": [
      "\n",
      "DIALOGUE:\n",
      "\n",
      "#Person1#: What time is it, Tom?\n",
      "#Person2#: Just a minute. It's ten to nine by my watch.\n",
      "#Person1#: Is it? I had no idea it was so late. I must be off now.\n",
      "#Person2#: What's the hurry?\n",
      "#Person1#: I must catch the nine-thirty train.\n",
      "#Person2#: You've plenty of time yet. The railway station is very close. It won't take more than twenty minutes to get there.\n",
      "\n",
      "SUMMARY:\n",
      "\n",
      "#Person1# is in a hurry to catch a train. Tom tells #Person1# there is plenty of time.\n",
      "\n",
      "DIALOGUE:\n",
      "\n",
      "#Person1#: May, do you mind helping me prepare for the picnic?\n",
      "#Person2#: Sure. Have you checked the weather report?\n",
      "#Person1#: Yes. It says it will be sunny all day. No sign of rain at all. This is your father's favorite sausage. Sandwiches for you and Daniel.\n",
      "#Person2#: No, thanks Mom. I'd like some toast and chicken wings.\n",
      "#Person1#: Okay. Please take some fruit salad and crackers for me.\n",
      "#Person2#: Done. Oh, don't forget to take napkins disposable plates, cups and picnic blanket.\n",
      "#Person1#: All set. May, can you help me take all these things to the living room?\n",
      "#Person2#: Yes, madam.\n",
      "#Person1#: Ask Daniel to give you a hand?\n",
      "#Person2#: No, mom, I can manage it by myself. His help just causes more trouble.\n",
      "\n",
      "SUMMARY:\n",
      "\n",
      "Mom asks May to help to prepare for the picnic and May agrees.\n",
      "\n",
      "DIALOGUE:\n",
      "\n",
      "#Person1#: What's wrong with you? Why are you scratching so much?\n",
      "#Person2#: I feel itchy! I can't stand it anymore! I think I may be coming down with something. I feel lightheaded and weak.\n",
      "#Person1#: Let me have a look. Whoa! Get away from me!\n",
      "#Person2#: What's wrong?\n",
      "#Person1#: I think you have chicken pox! You are contagious! Get away! Don't breathe on me!\n",
      "#Person2#: Maybe it's just a rash or an allergy! We can't be sure until I see a doctor.\n",
      "#Person1#: Well in the meantime you are a biohazard! I didn't get it when I was a kid and I've heard that you can even die if you get it as an adult!\n",
      "#Person2#: Are you serious? You always blow things out of proportion. In any case, I think I'll go take an oatmeal bath.\n",
      "\n",
      "SUMMARY:\n",
      "\n",
      "#Person1# thinks #Person2# has chicken pox and warns #Person2# about the possible hazards but #Person2# thinks it will be fine.\n",
      "\n",
      "DIALOGUE:\n",
      "\n",
      "#Person1#: Have you considered upgrading your system?\n",
      "#Person2#: Yes, but I'm not sure what exactly I would need.\n",
      "#Person1#: You could consider adding a painting program to your software. It would allow you to make up your own flyers and banners for advertising.\n",
      "#Person2#: That would be a definite bonus.\n",
      "#Person1#: You might also want to upgrade your hardware because it is pretty outdated now.\n",
      "#Person2#: How can we do that?\n",
      "#Person1#: You'd probably need a faster processor, to begin with. And you also need a more powerful hard disc, more memory and a faster modem. Do you have a CD-ROM drive?\n",
      "#Person2#: No.\n",
      "#Person1#: Then you might want to add a CD-ROM drive too, because most new software programs are coming out on Cds.\n",
      "#Person2#: That sounds great. Thanks.\n",
      "\n",
      "SUMMARY:\n",
      "\n"
     ]
    }
   ],
   "source": [
    "prompt = make_n_shot_summary_prompt(example_ids=[40, 80, 20], summarize_id=200)\n",
    "print(prompt)"
   ]
  },
  {
   "cell_type": "code",
   "execution_count": 75,
   "id": "73ef2af8-a311-412e-af7d-4609bd0b1337",
   "metadata": {},
   "outputs": [
    {
     "data": {
      "text/plain": [
       "\"And do you know what kind of things you'd like to get out of a package?\""
      ]
     },
     "execution_count": 75,
     "metadata": {},
     "output_type": "execute_result"
    }
   ],
   "source": [
    "gen_config = GenerationConfig(temperature=1.1, do_sample=True)\n",
    "get_model_completion(prompt, gen_config=gen_config)"
   ]
  },
  {
   "cell_type": "code",
   "execution_count": null,
   "id": "d68907a1-11e1-4deb-b552-14d232c7c9fd",
   "metadata": {},
   "outputs": [],
   "source": []
  },
  {
   "cell_type": "code",
   "execution_count": null,
   "id": "119427c2-8869-4dc4-9f0a-7c4f38ad9a75",
   "metadata": {},
   "outputs": [],
   "source": []
  }
 ],
 "metadata": {
  "kernelspec": {
   "display_name": "Python [conda env:llm_explore]",
   "language": "python",
   "name": "conda-env-llm_explore-py"
  },
  "language_info": {
   "codemirror_mode": {
    "name": "ipython",
    "version": 3
   },
   "file_extension": ".py",
   "mimetype": "text/x-python",
   "name": "python",
   "nbconvert_exporter": "python",
   "pygments_lexer": "ipython3",
   "version": "3.11.11"
  }
 },
 "nbformat": 4,
 "nbformat_minor": 5
}
