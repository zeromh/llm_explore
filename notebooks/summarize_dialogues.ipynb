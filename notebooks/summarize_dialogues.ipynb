{
 "cells": [
  {
   "cell_type": "code",
   "execution_count": 2,
   "id": "bc38b2fb-43ad-415e-92c7-baf865da1bc8",
   "metadata": {},
   "outputs": [],
   "source": [
    "from datasets import load_dataset\n",
    "from transformers import AutoTokenizer, AutoModelForSeq2SeqLM, GenerationConfig"
   ]
  },
  {
   "cell_type": "code",
   "execution_count": 18,
   "id": "194f5852-b014-4738-82d2-49aa40efdca2",
   "metadata": {},
   "outputs": [],
   "source": [
    "DATASET_NAME = \"knkarthick/dialogsum\"\n",
    "MODEL_NAME = \"google/flan-t5-base\""
   ]
  },
  {
   "cell_type": "code",
   "execution_count": 4,
   "id": "1f79dad4-0583-45aa-81c8-b6146853a919",
   "metadata": {},
   "outputs": [
    {
     "name": "stderr",
     "output_type": "stream",
     "text": [
      "\n",
      "\n",
      "\n",
      "enerating test split: 100%|███████████████████████████████████| 1500/1500 [00:00<00:00, 89826.61 examples/s]"
     ]
    }
   ],
   "source": [
    "dataset = load_dataset(DATASET_NAME)\n",
    "model = AutoModelForSeq2SeqLM.from_pretrained(MODEL_NAME)\n",
    "tokenizer = AutoTokenizer.from_pretrained(MODEL_NAME, use_fast=True)"
   ]
  },
  {
   "cell_type": "code",
   "execution_count": null,
   "id": "59a3ecfa-d345-4e1c-8a1a-f819ba5a3c38",
   "metadata": {},
   "outputs": [
    {
     "data": {
      "text/plain": [
       "Dataset({\n",
       "    features: ['id', 'dialogue', 'summary', 'topic'],\n",
       "    num_rows: 12460\n",
       "})"
      ]
     },
     "execution_count": 14,
     "metadata": {},
     "output_type": "execute_result"
    }
   ],
   "source": [
    "dataset['train']"
   ]
  },
  {
   "cell_type": "code",
   "execution_count": 81,
   "id": "8b00e5d9-ec9f-4aca-a845-ded3154fd6bc",
   "metadata": {},
   "outputs": [
    {
     "name": "stdout",
     "output_type": "stream",
     "text": [
      "#Person1#: Have you considered upgrading your system?\n",
      "#Person2#: Yes, but I'm not sure what exactly I would need.\n",
      "#Person1#: You could consider adding a painting program to your software. It would allow you to make up your own flyers and banners for advertising.\n",
      "#Person2#: That would be a definite bonus.\n",
      "#Person1#: You might also want to upgrade your hardware because it is pretty outdated now.\n",
      "#Person2#: How can we do that?\n",
      "#Person1#: You'd probably need a faster processor, to begin with. And you also need a more powerful hard disc, more memory and a faster modem. Do you have a CD-ROM drive?\n",
      "#Person2#: No.\n",
      "#Person1#: Then you might want to add a CD-ROM drive too, because most new software programs are coming out on Cds.\n",
      "#Person2#: That sounds great. Thanks.\n"
     ]
    }
   ],
   "source": [
    "print(dataset['test']['dialogue'][200])"
   ]
  },
  {
   "cell_type": "code",
   "execution_count": 74,
   "id": "a3c28791-ed0c-455b-96df-8015575e31e4",
   "metadata": {},
   "outputs": [],
   "source": [
    "def get_model_completion(prompt):\n",
    "    sentence_encoded = tokenizer(prompt, return_tensors='pt')\n",
    "    completion = model.generate(sentence_encoded.input_ids,\n",
    "                               num_beams=5,\n",
    "                               do_sample=True,\n",
    "                               max_new_tokens=100)[0]\n",
    "    return tokenizer.decode(completion, skip_special_tokens=True)\n",
    "    "
   ]
  },
  {
   "cell_type": "code",
   "execution_count": 83,
   "id": "adf9004d-7dcb-4e44-8850-aab34e1a3ee7",
   "metadata": {},
   "outputs": [
    {
     "data": {
      "text/plain": [
       "'#Person1 wants to upgrade his computer. #Person2 wants to add a painting program to his software. #Person1 wants to upgrade his hardware. #Person2 wants to add a CD-ROM drive.'"
      ]
     },
     "execution_count": 83,
     "metadata": {},
     "output_type": "execute_result"
    }
   ],
   "source": [
    "get_model_completion('Dialogue:\\n' + dataset['test']['dialogue'][200] + '\\nWhat was going on?')"
   ]
  },
  {
   "cell_type": "code",
   "execution_count": 85,
   "id": "d9de7d4a-bfda-4812-93ab-39631e316bc8",
   "metadata": {},
   "outputs": [],
   "source": [
    "# NA: make a function to easily create prompts, so I can iterate quickly.\n",
    "# Also might want to make something to print out the dialogue and model and human summaries easily."
   ]
  },
  {
   "cell_type": "code",
   "execution_count": null,
   "id": "72dfe64e-b3f8-44e0-b641-6d9e19863ff8",
   "metadata": {},
   "outputs": [],
   "source": []
  }
 ],
 "metadata": {
  "kernelspec": {
   "display_name": "Python [conda env:llm_explore]",
   "language": "python",
   "name": "conda-env-llm_explore-py"
  },
  "language_info": {
   "codemirror_mode": {
    "name": "ipython",
    "version": 3
   },
   "file_extension": ".py",
   "mimetype": "text/x-python",
   "name": "python",
   "nbconvert_exporter": "python",
   "pygments_lexer": "ipython3",
   "version": "3.11.11"
  }
 },
 "nbformat": 4,
 "nbformat_minor": 5
}
