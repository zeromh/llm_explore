{
 "cells": [
  {
   "cell_type": "markdown",
   "id": "2026783f",
   "metadata": {},
   "source": [
    "# Evaluating models\n",
    "\n",
    "### Things the could should do\n",
    "1. Load model\n",
    "1. Qualitative eval (prompt it)\n",
    "1. Eval metrics"
   ]
  },
  {
   "cell_type": "markdown",
   "id": "a6ee2389",
   "metadata": {},
   "source": []
  }
 ],
 "metadata": {
  "language_info": {
   "name": "python"
  }
 },
 "nbformat": 4,
 "nbformat_minor": 5
}
